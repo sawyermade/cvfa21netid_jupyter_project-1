{
  "nbformat": 4,
  "nbformat_minor": 0,
  "metadata": {
    "colab": {
      "name": "netid_jupyter_project-1.ipynb",
      "private_outputs": true,
      "provenance": [],
      "collapsed_sections": [],
      "toc_visible": true,
      "authorship_tag": "ABX9TyO82uLVXCRYJQEjATYZkX3W",
      "include_colab_link": true
    },
    "kernelspec": {
      "name": "python3",
      "display_name": "Python 3"
    },
    "language_info": {
      "name": "python"
    }
  },
  "cells": [
    {
      "cell_type": "markdown",
      "metadata": {
        "id": "view-in-github",
        "colab_type": "text"
      },
      "source": [
        "<a href=\"https://colab.research.google.com/github/sawyermade/cvfa21netid_jupyter_project-1/blob/master/netid_jupyter_project_1.ipynb\" target=\"_parent\"><img src=\"https://colab.research.google.com/assets/colab-badge.svg\" alt=\"Open In Colab\"/></a>"
      ]
    },
    {
      "cell_type": "markdown",
      "metadata": {
        "id": "WAR9w1bK_64y"
      },
      "source": [
        "# Computer Vision USF Fall 2021: Project 1 Transformations"
      ]
    },
    {
      "cell_type": "markdown",
      "metadata": {
        "id": "B2BPJMtj1gEu"
      },
      "source": [
        "# Mount Google drive to access your file structure\n",
        "You can store your input and output files on your Google drive so that they persist across sessions. You can use the \"Backup and Sync\" app from Google to mount it on your laptop to have local access to them."
      ]
    },
    {
      "cell_type": "code",
      "metadata": {
        "id": "875KRUJP14lU"
      },
      "source": [
        "# Mount Google drive\n",
        "from google.colab import drive\n",
        "drive_dir = '/content/drive'\n",
        "drive.mount(drive_dir)\n",
        "\n",
        "# Make output directory\n",
        "output_dir = '/content/drive/MyDrive/computer_vision_fa21/project-1/output'\n",
        "!mkdir -p $output_dir"
      ],
      "execution_count": null,
      "outputs": []
    },
    {
      "cell_type": "markdown",
      "metadata": {
        "id": "ZmnZUwND4NPt"
      },
      "source": [
        "#Download Sample Images\n",
        "Downloads sample images to the virtual machine in colab. Only need to run "
      ]
    },
    {
      "cell_type": "code",
      "metadata": {
        "id": "AuzROeH24dzT"
      },
      "source": [
        "# Data file and directory variables\n",
        "data_dir = '/content/data'\n",
        "data_zip = '/content/data.zip'\n",
        "\n",
        "# Use gdown to download sample data to Colab VM instance in \n",
        "!gdown https://drive.google.com/uc?id=1axFBPu_RxdG56voBCuh2btCRce92BE8L -O $data_zip\n",
        "!unzip -o $data_zip\n",
        "!rm $data_zip"
      ],
      "execution_count": null,
      "outputs": []
    },
    {
      "cell_type": "markdown",
      "metadata": {
        "id": "0XOQCxFO_hF1"
      },
      "source": [
        "# Import Modules\n",
        "Imports modules needed for project."
      ]
    },
    {
      "cell_type": "code",
      "metadata": {
        "id": "jqewU32e_bx8"
      },
      "source": [
        "# Imported modules\n",
        "import imageio, sys, os, numpy as np\n",
        "from tqdm import tqdm"
      ],
      "execution_count": null,
      "outputs": []
    },
    {
      "cell_type": "markdown",
      "metadata": {
        "id": "pHmgkZkFKKPQ"
      },
      "source": [
        "# Helper Functions For IO"
      ]
    },
    {
      "cell_type": "code",
      "metadata": {
        "id": "kqDJ-ThtKOno"
      },
      "source": [
        "# Create output filename and path\n",
        "def get_output_path(output_dir, img_path, trans):\n",
        "\t# Captures full fname from path and splits at fname and extension\n",
        "\timg_fname, img_ext = os.path.split(img_path)[-1].rsplit('.', 1)\n",
        "\n",
        "\t# Creates new fname with extension and adds full output path\n",
        "\tnew_fname_ext = f'{img_fname}-{trans}.{img_ext}'\n",
        "\tout_path = os.path.join(output_dir, new_fname_ext)\n",
        "\n",
        "\treturn out_path\n",
        "\n",
        "# Gets paths to images in data directory\n",
        "def get_image_paths(data_dir):\n",
        "\t# Pull image files in dir, must be png, jpg, jpeg\n",
        "\timg_exts = ['png', 'jpg', 'jpeg']\n",
        "\timg_list = os.listdir(data_dir)\n",
        "\timg_list = [f for f in img_list if f.rsplit('.', 1)[-1] in img_exts]\n",
        "\n",
        "\t# Check to make sure it found images, exit if not\n",
        "\tif not img_list:\n",
        "\t\tprint(f'No images found in {data_dir}. Exiting program...\\n')\n",
        "\t\tsys.exit(1)\n",
        "\n",
        "\t# Add directory to path of image files\n",
        "\timg_path_list = [os.path.join(data_dir, f) for f in img_list]\n",
        "\timg_path_list = [f for f in img_path_list if os.path.isfile(f)]\n",
        "\n",
        "  # Check to make sure it found image paths, exit if not\n",
        "\tif not img_path_list:\n",
        "\t\tprint(f'No images found in {data_dir}. Exiting program...\\n')\n",
        "\t\tsys.exit(1)\n",
        "\n",
        "\treturn img_path_list"
      ],
      "execution_count": null,
      "outputs": []
    },
    {
      "cell_type": "markdown",
      "metadata": {
        "id": "uUrC4TgeJ1qH"
      },
      "source": [
        "# Example Transformations"
      ]
    },
    {
      "cell_type": "markdown",
      "metadata": {
        "id": "tJCQ2M6PJUZD"
      },
      "source": [
        "## Flip image vertically"
      ]
    },
    {
      "cell_type": "code",
      "metadata": {
        "id": "W9iITiAYJj17"
      },
      "source": [
        "# Flip image vertically\n",
        "def flip_vertical_trans(img):\n",
        "\t# Copy numpy array, not needed here but just showing how to do it for future.\n",
        "\timg_new = img.copy()\n",
        "\n",
        "\t# Flip vertically using numpy slices\n",
        "\timg_new = img_new[::-1]\n",
        "\n",
        "\t# This will work as well without the copy in this case, but not in all future cases.\n",
        "\t# img_new = img[::-1]\n",
        "\n",
        "\treturn img_new"
      ],
      "execution_count": null,
      "outputs": []
    },
    {
      "cell_type": "markdown",
      "metadata": {
        "id": "yf5oGPDGJnGT"
      },
      "source": [
        "## Flip image horizontally"
      ]
    },
    {
      "cell_type": "code",
      "metadata": {
        "id": "eHs_PrXFJpy7"
      },
      "source": [
        "# Flip image horizontally\n",
        "def flip_horizontal_trans(img):\n",
        "\t# Copy numpy array, not needed here but just showing how to do it for future.\n",
        "\timg_new = img.copy()\n",
        "\n",
        "\t# Flip horizontally using numpy slices\n",
        "\timg_new = img_new[:, ::-1]\n",
        "\n",
        "\t# This will work as well without the copy in this case, but not in all future cases.\n",
        "\t# img_new = img[:, ::-1]\n",
        "\n",
        "\treturn img_new"
      ],
      "execution_count": null,
      "outputs": []
    },
    {
      "cell_type": "markdown",
      "metadata": {
        "id": "4LzxgD29HZxx"
      },
      "source": [
        "# Transformation Functions\n",
        "This section below is where your transformation functions will go.\n",
        "\n",
        "You have to figure out the parameters and add them\n",
        "to the function definitions. Then write the functions and only\n",
        "return the numpy array of the transformed image. The bare\n",
        "minimum parameter will always be the image and is included already.\n",
        "\n",
        "Check flip horizontal & vertical functions for examples above."
      ]
    },
    {
      "cell_type": "markdown",
      "metadata": {
        "id": "OB0dU107H9wl"
      },
      "source": [
        "## Translation Function"
      ]
    },
    {
      "cell_type": "code",
      "metadata": {
        "id": "pZR82SvaIIKc"
      },
      "source": [
        "# Translation Function\n",
        "def translation_trans(img, params):\n",
        "\timg_new = img.copy()\n",
        "\n",
        "\t### Your Code Goes Here Start ###\n",
        "\n",
        "\n",
        "\t### Your Code Goes Here End ###\n",
        "\n",
        "\treturn img_new"
      ],
      "execution_count": null,
      "outputs": []
    },
    {
      "cell_type": "markdown",
      "metadata": {
        "id": "jbftXQWGIKKK"
      },
      "source": [
        "## Rotate Function"
      ]
    },
    {
      "cell_type": "code",
      "metadata": {
        "id": "ovhJ-tdhIPOF"
      },
      "source": [
        "# Rotate Function\n",
        "def rotate_trans(img, params):\n",
        "\timg_new = img.copy()\n",
        "\n",
        "\t### Your Code Goes Here Start ###\n",
        "\n",
        "\n",
        "\t### Your Code Goes Here End ###\n",
        "\n",
        "\treturn img_new"
      ],
      "execution_count": null,
      "outputs": []
    },
    {
      "cell_type": "markdown",
      "metadata": {
        "id": "KECwQtJYITCF"
      },
      "source": [
        "## Similarity Function"
      ]
    },
    {
      "cell_type": "code",
      "metadata": {
        "id": "sps-YHyEIV7I"
      },
      "source": [
        "# Similarity Function\n",
        "def similarity_trans(img, params):\n",
        "\timg_new = img.copy()\n",
        "\n",
        "\t### Your Code Goes Here Start ###\n",
        "\n",
        "\n",
        "\t### Your Code Goes Here End ###\n",
        "\n",
        "\treturn img_new\n"
      ],
      "execution_count": null,
      "outputs": []
    },
    {
      "cell_type": "markdown",
      "metadata": {
        "id": "4UN6UQ0dIX3M"
      },
      "source": [
        "## Affine Function"
      ]
    },
    {
      "cell_type": "code",
      "metadata": {
        "id": "PMA5foWtIa1s"
      },
      "source": [
        "# Affine Function\n",
        "def affine_trans(img, params):\n",
        "\timg_new = img.copy()\n",
        "\n",
        "\t### Your Code Goes Here Start ###\n",
        "\n",
        "\n",
        "\t### Your Code Goes Here End ###\n",
        "\n",
        "\treturn img_new"
      ],
      "execution_count": null,
      "outputs": []
    },
    {
      "cell_type": "markdown",
      "metadata": {
        "id": "gqCL-zCgIlo8"
      },
      "source": [
        "## Projective Function"
      ]
    },
    {
      "cell_type": "code",
      "metadata": {
        "id": "nMtaGbRxIorl"
      },
      "source": [
        "# Projective Function\n",
        "def projective_trans(img, params):\n",
        "\timg_new = img.copy()\n",
        "\n",
        "\t### Your Code Goes Here Start ###\n",
        "\n",
        "\n",
        "\t### Your Code Goes Here End ###\n",
        "\n",
        "\treturn img_new"
      ],
      "execution_count": null,
      "outputs": []
    },
    {
      "cell_type": "markdown",
      "metadata": {
        "id": "MzL_6j_oIrA3"
      },
      "source": [
        "## Subtract Function"
      ]
    },
    {
      "cell_type": "code",
      "metadata": {
        "id": "xZsW0lwGItTL"
      },
      "source": [
        "# Subtract Function\n",
        "def subtract_trans(img, params):\n",
        "\timg_new = img.copy()\n",
        "\n",
        "\t### Your Code Goes Here Start ###\n",
        "\n",
        "\n",
        "\t### Your Code Goes Here End ###\n",
        "\n",
        "\treturn img_new"
      ],
      "execution_count": null,
      "outputs": []
    },
    {
      "cell_type": "markdown",
      "metadata": {
        "id": "fJlegUhwK2vj"
      },
      "source": [
        "# Main Function\n",
        "Under the STUDENT SECTION you have to figure out the parameters for your functions above, if needed, and pass them to the functions under each section below. Do not change output filename and saving part, just function parameters."
      ]
    },
    {
      "cell_type": "code",
      "metadata": {
        "id": "x8F30mvrK7HI"
      },
      "source": [
        "# Read images in data directory\n",
        "img_path_list = get_image_paths(data_dir)\n",
        "\n",
        "# Run transformations on images\n",
        "for img_path in tqdm(img_path_list):\n",
        "\t# Open image with imageio as numpy array\n",
        "\timg = imageio.imread(img_path)\n",
        "\n",
        "\t# Flip horizontal, no parameters\n",
        "\ttrans = 'flip_horizontal'\n",
        "\timg_new = flip_horizontal_trans(img)\n",
        "\tout_path = get_output_path(output_dir, img_path, trans)\n",
        "\timageio.imwrite(out_path, img_new)\n",
        "\n",
        "\t# Flip vertical, no parameters\n",
        "\ttrans = 'flip_vertical'\n",
        "\timg_new = flip_vertical_trans(img)\n",
        "\tout_path = get_output_path(output_dir, img_path, trans)\n",
        "\timageio.imwrite(out_path, img_new)\n",
        "\n",
        "\n",
        "\n",
        "\t##### STUDENT SECTION START #####\n",
        "\t'''\n",
        "\tYou have to figure out the parameters, if needed, and pass \n",
        "\tthem to the functions under each section below.\n",
        "\tDo not change output filename and saving part, just function parameters.\n",
        "\t'''\n",
        "\n",
        "\t# Translation Function\n",
        "  ## Enter needed parameters here in list\n",
        "  params = [None]\n",
        "\ttrans = 'translation'\n",
        "\timg_new = translation_trans(img, params)\n",
        "\tout_path = get_output_path(output_dir, img_path, trans)\n",
        "\timageio.imwrite(out_path, img_new)\n",
        "\n",
        "\t# Rotate Function\n",
        "  ## Enter needed parameters here in list\n",
        "  params = [None]\n",
        "\ttrans = 'rotate'\n",
        "\timg_new = rotate_trans(img, params)\n",
        "\tout_path = get_output_path(output_dir, img_path, trans)\n",
        "\timageio.imwrite(out_path, img_new)\n",
        "\n",
        "\t# Similarity Function\n",
        "  ## Enter needed parameters here in list\n",
        "  params = [None]\n",
        "\ttrans = 'similarity'\n",
        "\timg_new = similarity_trans(img, params)\n",
        "\tout_path = get_output_path(output_dir, img_path, trans)\n",
        "\timageio.imwrite(out_path, img_new)\n",
        "\n",
        "\t# Affine Function\n",
        "  ## Enter needed parameters here in list\n",
        "  params = [None]\n",
        "\ttrans = 'affine'\n",
        "\timg_new = affine_trans(img, params)\n",
        "\tout_path = get_output_path(output_dir, img_path, trans)\n",
        "\timageio.imwrite(out_path, img_new)\n",
        "\n",
        "\t# Projective Function\n",
        "  ## Enter needed parameters here in list\n",
        "  params = [None]\n",
        "\ttrans = 'projective'\n",
        "\timg_new = projective_trans(img, params)\n",
        "\tout_path = get_output_path(output_dir, img_path, trans)\n",
        "\timageio.imwrite(out_path, img_new)\n",
        "\n",
        "\t# Subtract Function\n",
        "  ## Enter needed parameters here in list\n",
        "  params = [None]\n",
        "\ttrans = 'subtract'\n",
        "\timg_new = subtract_trans(img, params)\n",
        "\tout_path = get_output_path(output_dir, img_path, trans)\n",
        "\timageio.imwrite(out_path, img_new)\n",
        "\t##### STUDENT SECTION END #####"
      ],
      "execution_count": null,
      "outputs": []
    },
    {
      "cell_type": "markdown",
      "metadata": {
        "id": "eyKwploEL4rJ"
      },
      "source": [
        "# Check Your Output\n",
        "This is a computer vision course and 90% of the time you will be able to look at your output and be able to tell if it is correct or not. Take a look at your google drive \"computer_vision_fa21/project-1/output\" directory and see if the image transformations gave the desired output for the function tags."
      ]
    }
  ]
}